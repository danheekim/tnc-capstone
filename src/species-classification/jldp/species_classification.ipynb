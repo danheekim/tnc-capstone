{
 "cells": [
  {
   "cell_type": "markdown",
   "id": "df8d2961",
   "metadata": {},
   "source": [
    "## Model Training - Species Classification\n",
    "Reads dataframe and uses Resnet 50 to perform species classification on Dangermont data."
   ]
  },
  {
   "cell_type": "markdown",
   "id": "c2c591ad",
   "metadata": {},
   "source": [
    "### 1. Preprocessing"
   ]
  },
  {
   "cell_type": "code",
   "execution_count": 1,
   "id": "788dc0f6",
   "metadata": {},
   "outputs": [],
   "source": [
    "import pandas as pd\n",
    "import matplotlib.pyplot as plt\n",
    "import cv2\n",
    "import os\n",
    "import numpy as np"
   ]
  },
  {
   "cell_type": "code",
   "execution_count": 2,
   "id": "e7656221",
   "metadata": {},
   "outputs": [],
   "source": [
    "# get and preprocess image for given image name\n",
    "def process_image(img_name, img_path, new_shape):\n",
    "    # get and preprocess\n",
    "    path = f\"{img_path}/{img_name}.jpg\"\n",
    "    image = cv2.imread(path)\n",
    "    image = cv2.resize(image, new_shape)\n",
    "    return image\n",
    "\n",
    "def process_df(df_path, img_path, new_shape):\n",
    "    # read df from df path\n",
    "    df = pd.read_csv(df_path, index_col=False)\n",
    "    df = df.drop(columns=[\"Unnamed: 0\"])\n",
    "    \n",
    "    # get processed image\n",
    "    df[\"image\"] = df[\"img_name\"].apply(lambda x: process_image(x, img_path, new_shape))\n",
    "    return df"
   ]
  },
  {
   "cell_type": "code",
   "execution_count": 3,
   "id": "2a67e7d2",
   "metadata": {},
   "outputs": [],
   "source": [
    "# remove classes with less than or equal to n observations\n",
    "def remove_classes(df, n):\n",
    "    df_group = df[[\"img_name\", \"common_name\"]].groupby(\"common_name\", as_index=False).count()\n",
    "    selected_species = list(df_group[df_group[\"img_name\"] > n][\"common_name\"])\n",
    "    \n",
    "    return df[df[\"common_name\"].isin(selected_species)]"
   ]
  },
  {
   "cell_type": "code",
   "execution_count": 4,
   "id": "07f34ed0",
   "metadata": {},
   "outputs": [],
   "source": [
    "# organize data in necessary format for ResNet\n",
    "def format_data(df, path):\n",
    "    for img, img_name, cname in zip(df[\"image\"].values, df[\"img_name\"].values, df[\"common_name\"].values):\n",
    "        full_path = f\"{path}/{cname}/\"\n",
    "        \n",
    "        # one folder per label\n",
    "        if not os.path.isdir(full_path):\n",
    "            os.mkdir(full_path)\n",
    "            \n",
    "        full_name = f\"{full_path}/{img_name}.jpg\"\n",
    "    \n",
    "        # write file if it doesn't exist already\n",
    "        if not os.path.isfile(full_name):\n",
    "            cv2.imwrite(full_name, img)"
   ]
  },
  {
   "cell_type": "code",
   "execution_count": 5,
   "id": "8f820c9b",
   "metadata": {
    "scrolled": true
   },
   "outputs": [],
   "source": [
    "df_path = \"df.csv\"\n",
    "img_path = \"images-bboxes/jldp\"\n",
    "img_shape = (224, 224)\n",
    "df = process_df(df_path, img_path, img_shape)\n",
    "df = remove_classes(df, 5)"
   ]
  },
  {
   "cell_type": "code",
   "execution_count": null,
   "id": "afc673d7",
   "metadata": {},
   "outputs": [],
   "source": [
    "path = \"tf-dataset/jldp\"\n",
    "format_data(df, path)"
   ]
  },
  {
   "cell_type": "code",
   "execution_count": 7,
   "id": "789ccdc1",
   "metadata": {},
   "outputs": [
    {
     "data": {
      "text/html": [
       "<div>\n",
       "<style scoped>\n",
       "    .dataframe tbody tr th:only-of-type {\n",
       "        vertical-align: middle;\n",
       "    }\n",
       "\n",
       "    .dataframe tbody tr th {\n",
       "        vertical-align: top;\n",
       "    }\n",
       "\n",
       "    .dataframe thead th {\n",
       "        text-align: right;\n",
       "    }\n",
       "</style>\n",
       "<table border=\"1\" class=\"dataframe\">\n",
       "  <thead>\n",
       "    <tr style=\"text-align: right;\">\n",
       "      <th></th>\n",
       "      <th>img_id</th>\n",
       "      <th>common_name</th>\n",
       "      <th>img_name</th>\n",
       "      <th>image</th>\n",
       "    </tr>\n",
       "  </thead>\n",
       "  <tbody>\n",
       "    <tr>\n",
       "      <th>0</th>\n",
       "      <td>2ce50250-84ca-4a83-b263-2f24bf522d0d</td>\n",
       "      <td>Coyote</td>\n",
       "      <td>2ce50250-84ca-4a83-b263-2f24bf522d0d_932</td>\n",
       "      <td>[[[17, 17, 17], [15, 15, 15], [13, 13, 13], [1...</td>\n",
       "    </tr>\n",
       "    <tr>\n",
       "      <th>1</th>\n",
       "      <td>3b45f93b-1539-4a7a-8577-8de6a12015e1</td>\n",
       "      <td>Coyote</td>\n",
       "      <td>3b45f93b-1539-4a7a-8577-8de6a12015e1_647</td>\n",
       "      <td>[[[11, 11, 11], [11, 11, 11], [11, 11, 11], [1...</td>\n",
       "    </tr>\n",
       "    <tr>\n",
       "      <th>2</th>\n",
       "      <td>85f21059-cb89-48bf-98c6-30440c02f0f5</td>\n",
       "      <td>Coyote</td>\n",
       "      <td>85f21059-cb89-48bf-98c6-30440c02f0f5_947</td>\n",
       "      <td>[[[18, 18, 18], [19, 19, 19], [19, 19, 19], [1...</td>\n",
       "    </tr>\n",
       "    <tr>\n",
       "      <th>3</th>\n",
       "      <td>ed0e7715-c052-4599-a366-bd50134aca77</td>\n",
       "      <td>Coyote</td>\n",
       "      <td>ed0e7715-c052-4599-a366-bd50134aca77_939</td>\n",
       "      <td>[[[29, 29, 29], [28, 28, 28], [27, 27, 27], [3...</td>\n",
       "    </tr>\n",
       "    <tr>\n",
       "      <th>4</th>\n",
       "      <td>1f29dc37-29b1-4c7b-937d-8bc4e31372ec</td>\n",
       "      <td>Coyote</td>\n",
       "      <td>1f29dc37-29b1-4c7b-937d-8bc4e31372ec_937</td>\n",
       "      <td>[[[30, 30, 30], [32, 32, 32], [34, 34, 34], [3...</td>\n",
       "    </tr>\n",
       "    <tr>\n",
       "      <th>...</th>\n",
       "      <td>...</td>\n",
       "      <td>...</td>\n",
       "      <td>...</td>\n",
       "      <td>...</td>\n",
       "    </tr>\n",
       "    <tr>\n",
       "      <th>11921</th>\n",
       "      <td>jldp:02ea11cea3794ee22cffdd66235a8e76</td>\n",
       "      <td>Mule Deer</td>\n",
       "      <td>jldp:02ea11cea3794ee22cffdd66235a8e76_6150</td>\n",
       "      <td>[[[19, 19, 19], [19, 19, 19], [19, 19, 19], [1...</td>\n",
       "    </tr>\n",
       "    <tr>\n",
       "      <th>11922</th>\n",
       "      <td>jldp:7b1e0549b33d2ca922afe2423cf3367c</td>\n",
       "      <td>Coyote</td>\n",
       "      <td>jldp:7b1e0549b33d2ca922afe2423cf3367c_6151</td>\n",
       "      <td>[[[58, 58, 58], [58, 58, 58], [57, 57, 57], [5...</td>\n",
       "    </tr>\n",
       "    <tr>\n",
       "      <th>11923</th>\n",
       "      <td>jldp:c2d28b49b86c2f8c1baec791134eab53</td>\n",
       "      <td>Coyote</td>\n",
       "      <td>jldp:c2d28b49b86c2f8c1baec791134eab53_6152</td>\n",
       "      <td>[[[54, 54, 54], [54, 54, 54], [53, 53, 53], [5...</td>\n",
       "    </tr>\n",
       "    <tr>\n",
       "      <th>11924</th>\n",
       "      <td>jldp:269e05af4f8b1fcc803537a147b4ec95</td>\n",
       "      <td>Coyote</td>\n",
       "      <td>jldp:269e05af4f8b1fcc803537a147b4ec95_6153</td>\n",
       "      <td>[[[40, 40, 40], [40, 40, 40], [40, 40, 40], [4...</td>\n",
       "    </tr>\n",
       "    <tr>\n",
       "      <th>11925</th>\n",
       "      <td>jldp:87be46030b7323d83b428968f246b8aa</td>\n",
       "      <td>Mule Deer</td>\n",
       "      <td>jldp:87be46030b7323d83b428968f246b8aa_6156</td>\n",
       "      <td>[[[163, 136, 109], [164, 136, 108], [166, 138,...</td>\n",
       "    </tr>\n",
       "  </tbody>\n",
       "</table>\n",
       "<p>11919 rows × 4 columns</p>\n",
       "</div>"
      ],
      "text/plain": [
       "                                      img_id common_name  \\\n",
       "0       2ce50250-84ca-4a83-b263-2f24bf522d0d      Coyote   \n",
       "1       3b45f93b-1539-4a7a-8577-8de6a12015e1      Coyote   \n",
       "2       85f21059-cb89-48bf-98c6-30440c02f0f5      Coyote   \n",
       "3       ed0e7715-c052-4599-a366-bd50134aca77      Coyote   \n",
       "4       1f29dc37-29b1-4c7b-937d-8bc4e31372ec      Coyote   \n",
       "...                                      ...         ...   \n",
       "11921  jldp:02ea11cea3794ee22cffdd66235a8e76   Mule Deer   \n",
       "11922  jldp:7b1e0549b33d2ca922afe2423cf3367c      Coyote   \n",
       "11923  jldp:c2d28b49b86c2f8c1baec791134eab53      Coyote   \n",
       "11924  jldp:269e05af4f8b1fcc803537a147b4ec95      Coyote   \n",
       "11925  jldp:87be46030b7323d83b428968f246b8aa   Mule Deer   \n",
       "\n",
       "                                         img_name  \\\n",
       "0        2ce50250-84ca-4a83-b263-2f24bf522d0d_932   \n",
       "1        3b45f93b-1539-4a7a-8577-8de6a12015e1_647   \n",
       "2        85f21059-cb89-48bf-98c6-30440c02f0f5_947   \n",
       "3        ed0e7715-c052-4599-a366-bd50134aca77_939   \n",
       "4        1f29dc37-29b1-4c7b-937d-8bc4e31372ec_937   \n",
       "...                                           ...   \n",
       "11921  jldp:02ea11cea3794ee22cffdd66235a8e76_6150   \n",
       "11922  jldp:7b1e0549b33d2ca922afe2423cf3367c_6151   \n",
       "11923  jldp:c2d28b49b86c2f8c1baec791134eab53_6152   \n",
       "11924  jldp:269e05af4f8b1fcc803537a147b4ec95_6153   \n",
       "11925  jldp:87be46030b7323d83b428968f246b8aa_6156   \n",
       "\n",
       "                                                   image  \n",
       "0      [[[17, 17, 17], [15, 15, 15], [13, 13, 13], [1...  \n",
       "1      [[[11, 11, 11], [11, 11, 11], [11, 11, 11], [1...  \n",
       "2      [[[18, 18, 18], [19, 19, 19], [19, 19, 19], [1...  \n",
       "3      [[[29, 29, 29], [28, 28, 28], [27, 27, 27], [3...  \n",
       "4      [[[30, 30, 30], [32, 32, 32], [34, 34, 34], [3...  \n",
       "...                                                  ...  \n",
       "11921  [[[19, 19, 19], [19, 19, 19], [19, 19, 19], [1...  \n",
       "11922  [[[58, 58, 58], [58, 58, 58], [57, 57, 57], [5...  \n",
       "11923  [[[54, 54, 54], [54, 54, 54], [53, 53, 53], [5...  \n",
       "11924  [[[40, 40, 40], [40, 40, 40], [40, 40, 40], [4...  \n",
       "11925  [[[163, 136, 109], [164, 136, 108], [166, 138,...  \n",
       "\n",
       "[11919 rows x 4 columns]"
      ]
     },
     "execution_count": 7,
     "metadata": {},
     "output_type": "execute_result"
    }
   ],
   "source": [
    "# df"
   ]
  },
  {
   "cell_type": "markdown",
   "id": "44148cb8",
   "metadata": {},
   "source": [
    "### 2. Exploratory Data Analysis"
   ]
  },
  {
   "cell_type": "code",
   "execution_count": 8,
   "id": "f900b446",
   "metadata": {},
   "outputs": [
    {
     "data": {
      "text/html": [
       "<div>\n",
       "<style scoped>\n",
       "    .dataframe tbody tr th:only-of-type {\n",
       "        vertical-align: middle;\n",
       "    }\n",
       "\n",
       "    .dataframe tbody tr th {\n",
       "        vertical-align: top;\n",
       "    }\n",
       "\n",
       "    .dataframe thead th {\n",
       "        text-align: right;\n",
       "    }\n",
       "</style>\n",
       "<table border=\"1\" class=\"dataframe\">\n",
       "  <thead>\n",
       "    <tr style=\"text-align: right;\">\n",
       "      <th></th>\n",
       "      <th>common_name</th>\n",
       "      <th>img_name</th>\n",
       "    </tr>\n",
       "  </thead>\n",
       "  <tbody>\n",
       "    <tr>\n",
       "      <th>8</th>\n",
       "      <td>Coyote</td>\n",
       "      <td>5409</td>\n",
       "    </tr>\n",
       "    <tr>\n",
       "      <th>18</th>\n",
       "      <td>Mule Deer</td>\n",
       "      <td>2265</td>\n",
       "    </tr>\n",
       "    <tr>\n",
       "      <th>28</th>\n",
       "      <td>Wild Boar</td>\n",
       "      <td>2178</td>\n",
       "    </tr>\n",
       "    <tr>\n",
       "      <th>9</th>\n",
       "      <td>Domestic Cattle</td>\n",
       "      <td>595</td>\n",
       "    </tr>\n",
       "    <tr>\n",
       "      <th>27</th>\n",
       "      <td>Western fence lizard</td>\n",
       "      <td>475</td>\n",
       "    </tr>\n",
       "    <tr>\n",
       "      <th>26</th>\n",
       "      <td>Western Gull</td>\n",
       "      <td>158</td>\n",
       "    </tr>\n",
       "    <tr>\n",
       "      <th>5</th>\n",
       "      <td>California Gull</td>\n",
       "      <td>151</td>\n",
       "    </tr>\n",
       "    <tr>\n",
       "      <th>13</th>\n",
       "      <td>Great Blue Heron</td>\n",
       "      <td>125</td>\n",
       "    </tr>\n",
       "    <tr>\n",
       "      <th>23</th>\n",
       "      <td>Turkey Vulture</td>\n",
       "      <td>113</td>\n",
       "    </tr>\n",
       "    <tr>\n",
       "      <th>17</th>\n",
       "      <td>Mallard</td>\n",
       "      <td>101</td>\n",
       "    </tr>\n",
       "    <tr>\n",
       "      <th>7</th>\n",
       "      <td>Common Raven</td>\n",
       "      <td>60</td>\n",
       "    </tr>\n",
       "    <tr>\n",
       "      <th>2</th>\n",
       "      <td>Bobcat</td>\n",
       "      <td>40</td>\n",
       "    </tr>\n",
       "    <tr>\n",
       "      <th>0</th>\n",
       "      <td>American Black Bear</td>\n",
       "      <td>35</td>\n",
       "    </tr>\n",
       "    <tr>\n",
       "      <th>10</th>\n",
       "      <td>Domestic Dog</td>\n",
       "      <td>26</td>\n",
       "    </tr>\n",
       "    <tr>\n",
       "      <th>25</th>\n",
       "      <td>Western Gray Squirrel</td>\n",
       "      <td>26</td>\n",
       "    </tr>\n",
       "    <tr>\n",
       "      <th>14</th>\n",
       "      <td>Great Egret</td>\n",
       "      <td>24</td>\n",
       "    </tr>\n",
       "    <tr>\n",
       "      <th>22</th>\n",
       "      <td>Striped Skunk</td>\n",
       "      <td>22</td>\n",
       "    </tr>\n",
       "    <tr>\n",
       "      <th>12</th>\n",
       "      <td>Double-crested Cormorant</td>\n",
       "      <td>15</td>\n",
       "    </tr>\n",
       "    <tr>\n",
       "      <th>20</th>\n",
       "      <td>Snowy Egret</td>\n",
       "      <td>15</td>\n",
       "    </tr>\n",
       "    <tr>\n",
       "      <th>11</th>\n",
       "      <td>Domestic Pig</td>\n",
       "      <td>14</td>\n",
       "    </tr>\n",
       "    <tr>\n",
       "      <th>1</th>\n",
       "      <td>American Robin</td>\n",
       "      <td>13</td>\n",
       "    </tr>\n",
       "    <tr>\n",
       "      <th>3</th>\n",
       "      <td>Brandt's Cormorant</td>\n",
       "      <td>10</td>\n",
       "    </tr>\n",
       "    <tr>\n",
       "      <th>15</th>\n",
       "      <td>Great Horned Owl</td>\n",
       "      <td>8</td>\n",
       "    </tr>\n",
       "    <tr>\n",
       "      <th>16</th>\n",
       "      <td>Grey Fox</td>\n",
       "      <td>8</td>\n",
       "    </tr>\n",
       "    <tr>\n",
       "      <th>6</th>\n",
       "      <td>California Scrub-Jay</td>\n",
       "      <td>8</td>\n",
       "    </tr>\n",
       "    <tr>\n",
       "      <th>24</th>\n",
       "      <td>Virginia Opossum</td>\n",
       "      <td>7</td>\n",
       "    </tr>\n",
       "    <tr>\n",
       "      <th>19</th>\n",
       "      <td>Northern Raccoon</td>\n",
       "      <td>6</td>\n",
       "    </tr>\n",
       "    <tr>\n",
       "      <th>21</th>\n",
       "      <td>Snowy Plover</td>\n",
       "      <td>6</td>\n",
       "    </tr>\n",
       "    <tr>\n",
       "      <th>4</th>\n",
       "      <td>Brown Rat</td>\n",
       "      <td>6</td>\n",
       "    </tr>\n",
       "  </tbody>\n",
       "</table>\n",
       "</div>"
      ],
      "text/plain": [
       "                 common_name  img_name\n",
       "8                     Coyote      5409\n",
       "18                 Mule Deer      2265\n",
       "28                 Wild Boar      2178\n",
       "9            Domestic Cattle       595\n",
       "27      Western fence lizard       475\n",
       "26              Western Gull       158\n",
       "5            California Gull       151\n",
       "13          Great Blue Heron       125\n",
       "23            Turkey Vulture       113\n",
       "17                   Mallard       101\n",
       "7               Common Raven        60\n",
       "2                     Bobcat        40\n",
       "0        American Black Bear        35\n",
       "10              Domestic Dog        26\n",
       "25     Western Gray Squirrel        26\n",
       "14               Great Egret        24\n",
       "22             Striped Skunk        22\n",
       "12  Double-crested Cormorant        15\n",
       "20               Snowy Egret        15\n",
       "11              Domestic Pig        14\n",
       "1             American Robin        13\n",
       "3         Brandt's Cormorant        10\n",
       "15          Great Horned Owl         8\n",
       "16                  Grey Fox         8\n",
       "6       California Scrub-Jay         8\n",
       "24          Virginia Opossum         7\n",
       "19          Northern Raccoon         6\n",
       "21              Snowy Plover         6\n",
       "4                  Brown Rat         6"
      ]
     },
     "execution_count": 8,
     "metadata": {},
     "output_type": "execute_result"
    }
   ],
   "source": [
    "# 33 classes\n",
    "# 29 classes after removing those with <= 5 observations\n",
    "# marked class imbalance!\n",
    "df[[\"common_name\", \"img_name\"]].groupby(\"common_name\", as_index=False).count().\\\n",
    "    sort_values(by=\"img_name\", ascending=False)"
   ]
  },
  {
   "cell_type": "code",
   "execution_count": 9,
   "id": "16ee3985",
   "metadata": {},
   "outputs": [
    {
     "name": "stdout",
     "output_type": "stream",
     "text": [
      "There are 29 classes\n"
     ]
    }
   ],
   "source": [
    "num_classes = len(df[\"common_name\"].unique())\n",
    "print(f\"There are {num_classes} classes\")"
   ]
  },
  {
   "cell_type": "markdown",
   "id": "402c72a7",
   "metadata": {},
   "source": [
    "### 3. Modeling"
   ]
  },
  {
   "cell_type": "markdown",
   "id": "0e081018",
   "metadata": {},
   "source": [
    "#### Resnet 50"
   ]
  },
  {
   "cell_type": "code",
   "execution_count": 17,
   "id": "47f62e8e",
   "metadata": {},
   "outputs": [],
   "source": [
    "from tensorflow.keras.applications import ResNet50\n",
    "from tensorflow.keras import Sequential\n",
    "from tensorflow.keras.layers import Flatten, Dense\n",
    "from tensorflow.keras.applications.resnet50 import preprocess_input, decode_predictions\n",
    "from tensorflow.keras.preprocessing.image import ImageDataGenerator"
   ]
  },
  {
   "cell_type": "code",
   "execution_count": 18,
   "id": "85730ea4",
   "metadata": {},
   "outputs": [],
   "source": [
    "def resnet_model(input_shape, batch_size, n_trainable, num_classes, optimizer=\"adam\"):\n",
    "    # Load the pre-trained model\n",
    "    # 177 layers\n",
    "    base_model = ResNet50(weights=\"imagenet\", include_top=True, input_shape=input_shape)\n",
    "    \n",
    "    # freeze the first n - n_trainable layers\n",
    "    for layer in base_model.layers[:-n_trainable]:\n",
    "        layer.trainable = False\n",
    "        \n",
    "    model = Sequential([\n",
    "        base_model, \n",
    "        Flatten(),\n",
    "        Dense(num_classes, activation=\"softmax\")\n",
    "    ])\n",
    "    \n",
    "    model.compile(optimizer=\"adam\", loss=\"categorical_crossentropy\", metrics=[\"accuracy\"])\n",
    "    \n",
    "    return model"
   ]
  },
  {
   "cell_type": "code",
   "execution_count": 19,
   "id": "e28ef693",
   "metadata": {},
   "outputs": [],
   "source": [
    "def train_val_data(path, val_split, target_size, batch_size):\n",
    "    \n",
    "    datagen = ImageDataGenerator(\n",
    "        preprocessing_function = preprocess_input,\n",
    "        validation_split = 0.2\n",
    "    )\n",
    "    \n",
    "    train_generator = datagen.flow_from_directory(\n",
    "        path,\n",
    "        target_size = target_size,\n",
    "        batch_size = batch_size,\n",
    "        class_mode = \"categorical\",\n",
    "        subset = \"training\"\n",
    "    )\n",
    "    \n",
    "    validation_generator = datagen.flow_from_directory(\n",
    "        path,\n",
    "        target_size = (224, 224),\n",
    "        batch_size = batch_size,\n",
    "        class_mode = \"categorical\",\n",
    "        subset = \"validation\"\n",
    "    )\n",
    "    \n",
    "    return train_generator, validation_generator"
   ]
  },
  {
   "cell_type": "code",
   "execution_count": 20,
   "id": "96f08eb6",
   "metadata": {},
   "outputs": [],
   "source": [
    "dim = 224\n",
    "input_shape = (dim, dim, 3)\n",
    "batch_size = 32\n",
    "trainable_layers = 30\n",
    "\n",
    "# compiled model\n",
    "model = resnet_model(input_shape, batch_size, trainable_layers, num_classes)"
   ]
  },
  {
   "cell_type": "code",
   "execution_count": 21,
   "id": "4a470599",
   "metadata": {},
   "outputs": [
    {
     "name": "stdout",
     "output_type": "stream",
     "text": [
      "Found 8933 images belonging to 29 classes.\n",
      "Found 2223 images belonging to 29 classes.\n"
     ]
    }
   ],
   "source": [
    "path = \"tf-dataset/jldp/\"\n",
    "val_split = 0.2\n",
    "target_size = (dim, dim)\n",
    "\n",
    "# train and test data\n",
    "train_generator, validation_generator = train_val_data(path, val_split, target_size, batch_size)"
   ]
  },
  {
   "cell_type": "code",
   "execution_count": 22,
   "id": "515ed984",
   "metadata": {},
   "outputs": [
    {
     "name": "stdout",
     "output_type": "stream",
     "text": [
      "Epoch 1/5\n",
      "280/280 [==============================] - 4954s 18s/step - loss: 2.8957 - accuracy: 0.7861 - val_loss: 2.4930 - val_accuracy: 0.8596\n",
      "Epoch 2/5\n",
      "280/280 [==============================] - 2408s 9s/step - loss: 2.1632 - accuracy: 0.8632 - val_loss: 1.8406 - val_accuracy: 0.8871\n",
      "Epoch 3/5\n",
      "280/280 [==============================] - 1572s 6s/step - loss: 1.5969 - accuracy: 0.8813 - val_loss: 1.3604 - val_accuracy: 0.8862\n",
      "Epoch 4/5\n",
      "280/280 [==============================] - 1469s 5s/step - loss: 1.1861 - accuracy: 0.8935 - val_loss: 1.0372 - val_accuracy: 0.8902\n",
      "Epoch 5/5\n",
      "280/280 [==============================] - 2135s 8s/step - loss: 0.9173 - accuracy: 0.8972 - val_loss: 0.8151 - val_accuracy: 0.9096\n"
     ]
    },
    {
     "data": {
      "text/plain": [
       "<keras.callbacks.History at 0x2bfac06dcd0>"
      ]
     },
     "execution_count": 22,
     "metadata": {},
     "output_type": "execute_result"
    }
   ],
   "source": [
    "# fitting model\n",
    "model.fit(\n",
    "    train_generator,\n",
    "    validation_data = validation_generator,\n",
    "    epochs = 5,\n",
    "    verbose = True\n",
    ")"
   ]
  },
  {
   "cell_type": "code",
   "execution_count": 19,
   "id": "932ad995",
   "metadata": {},
   "outputs": [],
   "source": [
    "# result summary\n",
    "\n",
    "# only human data - removing duplicates\n",
    "# :-30, 3 epochs, accuracy 0.86, val accuracy 0.88\n",
    "\n",
    "# only human data - removing duplicates + animl data\n",
    "# :-30, 3 epochs, accuracy 0.72, val accuracy 0.73"
   ]
  },
  {
   "cell_type": "code",
   "execution_count": 21,
   "id": "d4710dee",
   "metadata": {},
   "outputs": [],
   "source": [
    "# save model\n",
    "structure_path = \"tf-dataset/models/model01.json\"\n",
    "weights_path = \"tf-dataset/models/model01.h5\"\n",
    "\n",
    "# save structure\n",
    "with open(structure_path, \"w\") as json_file:\n",
    "    json_file.write(model.to_json())\n",
    "    \n",
    "# save weights\n",
    "model.save_weights(weights_path)"
   ]
  },
  {
   "cell_type": "code",
   "execution_count": 20,
   "id": "8666e8a5",
   "metadata": {},
   "outputs": [
    {
     "name": "stdout",
     "output_type": "stream",
     "text": [
      "72/72 [==============================] - 125s 2s/step\n"
     ]
    }
   ],
   "source": [
    "val_predictions = model.predict(validation_generator)"
   ]
  },
  {
   "cell_type": "code",
   "execution_count": 44,
   "id": "a41dafd0",
   "metadata": {},
   "outputs": [],
   "source": [
    "pred_indices = np.argmax(val_predictions, axis=1)\n",
    "\n",
    "labels = list(validation_generator.class_indices.keys())\n",
    "pred_labels = [labels[i] for i in pred_indices]\n",
    "# actual_labels = [labels[i] for i in validation_generator.classes]"
   ]
  },
  {
   "cell_type": "code",
   "execution_count": null,
   "id": "36a9bedb",
   "metadata": {},
   "outputs": [],
   "source": [
    "# pred_labels\n",
    "\n",
    "# test_df = pd.DataFrame()\n",
    "# test_df['filename'] = test_images\n",
    "# test_df['actual'] = label_encoder.inverse_transform(test_labels.argmax(axis=1))\n",
    "# test_df['predicted'] = predicted_unnest\n",
    "# test_df.loc[test_df['actual']==test_df['predicted'],'Same'] = True\n",
    "# test_df.loc[test_df['actual']!=test_df['predicted'],'Same'] = False\n",
    "# test_df.head(10)\n",
    "# test_df.to_csv('../data/test_results.csv')"
   ]
  }
 ],
 "metadata": {
  "kernelspec": {
   "display_name": "Python 3 (ipykernel)",
   "language": "python",
   "name": "python3"
  },
  "language_info": {
   "codemirror_mode": {
    "name": "ipython",
    "version": 3
   },
   "file_extension": ".py",
   "mimetype": "text/x-python",
   "name": "python",
   "nbconvert_exporter": "python",
   "pygments_lexer": "ipython3",
   "version": "3.11.2"
  }
 },
 "nbformat": 4,
 "nbformat_minor": 5
}
