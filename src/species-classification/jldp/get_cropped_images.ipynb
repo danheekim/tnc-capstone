{
 "cells": [
  {
   "cell_type": "markdown",
   "id": "ecaf2087",
   "metadata": {},
   "source": [
    "### Preprocessing - Get Cropped Images\n",
    "Reads json files from Megadetector output and produces cropped images with bouding boxes for each animal found.\n",
    "\n",
    "Inputs:\n",
    "- Batch name (name of JLDP folder, i.e. \"2139571\").\n",
    "- Path where Megadetector output json files are stored. The files' names follow the convention \"output_{batch}.json\".\n",
    "\n",
    "Output:\n",
    "- Cropped image of every animal found in each image. All images are stored in the \"images-bboxes/jldp\" folder.\n",
    "- Since some images show multiple animals, the cropped images are named following the convention \"{origname}_{confidence}\". Where *origname* is the original image name and *confidence* is Megadetector's confidence of the finding. E.g., if the original image is called \"dedbef28-fb10-491f-a8ba-ce5030ebb917.JPG\" and Megadetector finds an animal there with 47.1% of confidence, the new cropped image for this specific finding will be called \"\"dedbef28-fb10-491f-a8ba-ce5030ebb917_471.JPG\"."
   ]
  },
  {
   "cell_type": "code",
   "execution_count": 1,
   "id": "31bd1aef",
   "metadata": {},
   "outputs": [],
   "source": [
    "import json\n",
    "import cv2\n",
    "import matplotlib.pyplot as plt\n",
    "\n",
    "%matplotlib inline"
   ]
  },
  {
   "cell_type": "code",
   "execution_count": 2,
   "id": "65c4383b",
   "metadata": {},
   "outputs": [],
   "source": [
    "# read json output for given batch\n",
    "def read_file(path, batch):\n",
    "    with open(f\"{path}/output_{batch}.json\") as json_file:\n",
    "        data = json.load(json_file)\n",
    "    return data"
   ]
  },
  {
   "cell_type": "code",
   "execution_count": 36,
   "id": "d4526549",
   "metadata": {},
   "outputs": [],
   "source": [
    "# obtain relevant detections from the data\n",
    "def get_detections(data, threshold):\n",
    "\n",
    "    # lists to store images where megadetector confidently recognized animals\n",
    "    # and the detection information that it captured\n",
    "    img_names = []\n",
    "    img_detection = []\n",
    "    \n",
    "    total_count = 0\n",
    "    animal_count = 0\n",
    "    det_count = 0\n",
    "\n",
    "    for img in data[\"images\"]:\n",
    "        total_count += 1\n",
    "        \n",
    "        animal_present = False\n",
    "        \n",
    "        # if nothing was detected in this image, move on to next\n",
    "        if \"detections\" not in img.keys():\n",
    "            continue\n",
    "            \n",
    "        file_name = img[\"file\"]\n",
    "        detections = img[\"detections\"]\n",
    "        \n",
    "        for detection in detections:\n",
    "            # skip if the detector is not at least threshold% confident\n",
    "            if detection[\"conf\"] < threshold:\n",
    "                continue\n",
    "            \n",
    "            # skip if it's not an animal\n",
    "            if detection[\"category\"] != \"1\":\n",
    "                continue\n",
    "            else:\n",
    "                animal_count += 1\n",
    "                img_names.append(file_name)\n",
    "                img_detection.append(detection)\n",
    "                \n",
    "            if not animal_present:\n",
    "                det_count += 1\n",
    "            animal_present = True\n",
    "        \n",
    "    return (total_count, det_count, animal_count, img_names, img_detection)"
   ]
  },
  {
   "cell_type": "code",
   "execution_count": 5,
   "id": "be8ef954",
   "metadata": {},
   "outputs": [],
   "source": [
    "# add rectangle with given bounding box coordinates to given image\n",
    "def add_bbox(img, box):\n",
    "    y_dim, x_dim, _ = img.shape\n",
    "    \n",
    "    # coordinates are given in relative terms so need to convert them to absolute values\n",
    "    x0 = round(box[0] * x_dim)\n",
    "    x1 = x0 + round(box[2] * x_dim)\n",
    "    y0 = round(box[1] * y_dim)\n",
    "    y1 = y0 + round(box[3] * y_dim)\n",
    "    \n",
    "    # (x0, y0) are coordinates of the the top left corner of bounding box\n",
    "    # (x0+x1, y0+y1) are the coordinates of the bottom right corner of bounding box\n",
    "\n",
    "    start_point = (x0, y0)\n",
    "    end_point = (x1, y1)\n",
    "\n",
    "    return cv2.rectangle(img, start_point, end_point, color=(255,0,0), thickness=2)"
   ]
  },
  {
   "cell_type": "code",
   "execution_count": 6,
   "id": "704fa5a9",
   "metadata": {},
   "outputs": [],
   "source": [
    "# crop given image based on bounding box coordinatees\n",
    "def crop_box(img, box):\n",
    "    y_dim, x_dim, _ = img.shape\n",
    "    \n",
    "    # coordinates are given in relative terms so need to convert them to absolute values\n",
    "    x0 = round(box[0] * x_dim)\n",
    "    x1 = x0 + round(box[2] * x_dim)\n",
    "    y0 = round(box[1] * y_dim)\n",
    "    y1 = y0 + round(box[3] * y_dim)\n",
    "    \n",
    "    return img[y0:y1, x0:x1, :]"
   ]
  },
  {
   "cell_type": "code",
   "execution_count": 7,
   "id": "70f4f032",
   "metadata": {},
   "outputs": [],
   "source": [
    "# write images with bounding boxes to given path\n",
    "# and return list with modified images\n",
    "def write_bb_img(img_names, img_detections, batch, path):\n",
    "    \n",
    "    for name, det in zip(img_names, img_detections):\n",
    "        img_name = f\"images/jldp/{batch}/prod/directUpload/{name}\"\n",
    "        img = cv2.imread(img_name)\n",
    "        box = det[\"bbox\"]\n",
    "        conf = int(det[\"conf\"] * 1000)\n",
    "        \n",
    "        # img_bbox = add_bbox(img, box)\n",
    "        img_bbox = crop_box(img, box)\n",
    "    \n",
    "        split_name = name.split(\".\")\n",
    "        new_name = f\"{split_name[0]}_{conf}.{split_name[1]}\"\n",
    "        full_path = f\"{path}/{new_name}\"\n",
    "        \n",
    "        cv2.imwrite(full_path, img_bbox)"
   ]
  },
  {
   "cell_type": "code",
   "execution_count": 37,
   "id": "7f318ef7",
   "metadata": {},
   "outputs": [
    {
     "name": "stdout",
     "output_type": "stream",
     "text": [
      "Total count is 86525\n",
      "Animal count is 62184\n",
      "Detection count is 49668\n"
     ]
    }
   ],
   "source": [
    "batches = [\"2139502\", \"2139503\", \"2139504\", \"2139505\", \"2139506\", \"2139507\",\n",
    "          \"2139508\", \"2139509\", \"2139510\", \"2139511\", \"2139513\", \"2139514\",\n",
    "          \"2139515\", \"2139516\", \"2139517\", \"2139518\", \"2139519\", \"2139520\",\n",
    "          \"2139533\", \"2139534\", \"2139537\", \"2139539\", \"2139540\", \"2139543\",\n",
    "          \"2139545\", \"2139547\", \"2139548\", \"2139569\", \"2139570\", \"2139571\",\n",
    "          \"2139572\", \"2139573\", \"2139574\", \"2252500\", \"2252784\", \"2252786\",\n",
    "          \"2252892\"]\n",
    "\n",
    "input_path = \"megadetector-output/jldp\"\n",
    "output_path = \"images-bboxes/jldp\"\n",
    "\n",
    "threshold = 0.45\n",
    "total_count = 0\n",
    "animal_count = 0\n",
    "det_count = 0\n",
    "for batch in batches:\n",
    "    data = read_file(input_path, batch)\n",
    "    t_count, d_count, a_count, img_names, img_detections = get_detections(data, threshold)\n",
    "    total_count += t_count\n",
    "    animal_count += a_count\n",
    "    det_count += d_count\n",
    "    write_bb_img(img_names, img_detections, batch, output_path)\n",
    "    \n",
    "print(f\"Total count is {total_count}\") # total number of images\n",
    "print(f\"Animal count is {animal_count}\") # might include multiple animals per image\n",
    "print(f\"Detection count is {det_count}\") # total number of images where detections were made with sufficient threshold"
   ]
  }
 ],
 "metadata": {
  "kernelspec": {
   "display_name": "Python 3 (ipykernel)",
   "language": "python",
   "name": "python3"
  },
  "language_info": {
   "codemirror_mode": {
    "name": "ipython",
    "version": 3
   },
   "file_extension": ".py",
   "mimetype": "text/x-python",
   "name": "python",
   "nbconvert_exporter": "python",
   "pygments_lexer": "ipython3",
   "version": "3.11.2"
  }
 },
 "nbformat": 4,
 "nbformat_minor": 5
}
