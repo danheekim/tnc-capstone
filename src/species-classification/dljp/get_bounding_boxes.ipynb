{
 "cells": [
  {
   "cell_type": "code",
   "execution_count": 37,
   "id": "c0317dc9",
   "metadata": {},
   "outputs": [
    {
     "data": {
      "text/plain": [
       "' Reads json files from Megadetector output and produces cropped images with bounding boxes for each animal found '"
      ]
     },
     "execution_count": 37,
     "metadata": {},
     "output_type": "execute_result"
    }
   ],
   "source": [
    "\"\"\" Reads json files from Megadetector output and produces cropped images with bounding boxes for each animal found \"\"\""
   ]
  },
  {
   "cell_type": "code",
   "execution_count": 1,
   "id": "31bd1aef",
   "metadata": {},
   "outputs": [],
   "source": [
    "import json\n",
    "import cv2\n",
    "import matplotlib.pyplot as plt\n",
    "\n",
    "%matplotlib inline"
   ]
  },
  {
   "cell_type": "code",
   "execution_count": 2,
   "id": "65c4383b",
   "metadata": {},
   "outputs": [],
   "source": [
    "# read json output for given batch\n",
    "def read_file(path, batch):\n",
    "    with open(f\"{path}/output_{batch}.json\") as json_file:\n",
    "        data = json.load(json_file)\n",
    "    return data"
   ]
  },
  {
   "cell_type": "code",
   "execution_count": 3,
   "id": "d4526549",
   "metadata": {},
   "outputs": [],
   "source": [
    "# obtain relevant detections from the data\n",
    "def get_detections(data):\n",
    "\n",
    "    # lists to store images where megadetector confidently recognized animals\n",
    "    # and the detection information that it captured\n",
    "    img_names = []\n",
    "    img_detection = []\n",
    "\n",
    "    for img in data[\"images\"]:\n",
    "        file_name = img[\"file\"]\n",
    "        detections = img[\"detections\"]\n",
    "        if len(detections) < 1:\n",
    "            continue\n",
    "        \n",
    "        for detection in detections:\n",
    "            # skip if the detector is not at least 50% confident\n",
    "            if detection[\"conf\"] < 0.5:\n",
    "                continue\n",
    "            \n",
    "            # skip if it's not an animal\n",
    "            if detection[\"category\"] != \"1\":\n",
    "                continue\n",
    "            \n",
    "            else:\n",
    "                img_names.append(file_name)\n",
    "                img_detection.append(detection)\n",
    "                \n",
    "    return (img_names, img_detection)"
   ]
  },
  {
   "cell_type": "code",
   "execution_count": 4,
   "id": "be8ef954",
   "metadata": {},
   "outputs": [],
   "source": [
    "# add rectangle with given bounding box coordinates to given image\n",
    "def add_bbox(img, box):\n",
    "    y_dim, x_dim, _ = img.shape\n",
    "    \n",
    "    # coordinates are given in relative terms so need to convert them to absolute values\n",
    "    x0 = round(box[0] * x_dim)\n",
    "    x1 = x0 + round(box[2] * x_dim)\n",
    "    y0 = round(box[1] * y_dim)\n",
    "    y1 = y0 + round(box[3] * y_dim)\n",
    "    \n",
    "    # (x0, y0) are coordinates of the the top left corner of bounding box\n",
    "    # (x0+x1, y0+y1) are the coordinates of the bottom right corner of bounding box\n",
    "\n",
    "    start_point = (x0, y0)\n",
    "    end_point = (x1, y1)\n",
    "\n",
    "    return cv2.rectangle(img, start_point, end_point, color=(255,0,0), thickness=2)"
   ]
  },
  {
   "cell_type": "code",
   "execution_count": 5,
   "id": "704fa5a9",
   "metadata": {},
   "outputs": [],
   "source": [
    "# crop given image based on bounding box coordinatees\n",
    "def crop_box(img, box):\n",
    "    y_dim, x_dim, _ = img.shape\n",
    "    \n",
    "    # coordinates are given in relative terms so need to convert them to absolute values\n",
    "    x0 = round(box[0] * x_dim)\n",
    "    x1 = x0 + round(box[2] * x_dim)\n",
    "    y0 = round(box[1] * y_dim)\n",
    "    y1 = y0 + round(box[3] * y_dim)\n",
    "    \n",
    "    return img[y0:y1, x0:x1, :]"
   ]
  },
  {
   "cell_type": "code",
   "execution_count": 6,
   "id": "70f4f032",
   "metadata": {},
   "outputs": [],
   "source": [
    "# write images with bounding boxes to given path\n",
    "# and return list with modified images\n",
    "def write_bb_img(img_names, img_detections, batch, path):\n",
    "    \n",
    "    for name, det in zip(img_names, img_detections):\n",
    "        # img_name = f\"images/loc-h500ee05127658/{batch}/{name}\"\n",
    "        img_name = f\"images/jldp/{batch}/prod/directUpload/{name}\"\n",
    "        img = cv2.imread(img_name)\n",
    "        box = det[\"bbox\"]\n",
    "        \n",
    "        # img_bbox = add_bbox(img, box)\n",
    "        img_bbox = crop_box(img, box)\n",
    "    \n",
    "        # new_name = f\"img-{batch}-{name}\"\n",
    "        new_name = name\n",
    "        full_path = f\"{path}/{new_name}\"\n",
    "        \n",
    "        cv2.imwrite(full_path, img_bbox)"
   ]
  },
  {
   "cell_type": "code",
   "execution_count": 38,
   "id": "7f318ef7",
   "metadata": {},
   "outputs": [],
   "source": [
    "# to do: 2139507, 2139509, 2139571\n",
    "batches = [\"2252500\"]\n",
    "path = \"megadetector-output-jldp\"\n",
    "for batch in batches:\n",
    "    data = read_file(path, batch)\n",
    "    img_names, img_detections = get_detections(data)\n",
    "    write_bb_img(img_names, img_detections, batch, \"images-bboxes/jldp\")"
   ]
  },
  {
   "cell_type": "code",
   "execution_count": 36,
   "id": "840db64b",
   "metadata": {
    "scrolled": true
   },
   "outputs": [],
   "source": [
    "# plt.imshow(img)"
   ]
  }
 ],
 "metadata": {
  "kernelspec": {
   "display_name": "Python 3 (ipykernel)",
   "language": "python",
   "name": "python3"
  },
  "language_info": {
   "codemirror_mode": {
    "name": "ipython",
    "version": 3
   },
   "file_extension": ".py",
   "mimetype": "text/x-python",
   "name": "python",
   "nbconvert_exporter": "python",
   "pygments_lexer": "ipython3",
   "version": "3.11.2"
  }
 },
 "nbformat": 4,
 "nbformat_minor": 5
}
