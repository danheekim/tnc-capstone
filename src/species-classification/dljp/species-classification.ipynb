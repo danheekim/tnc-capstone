{
 "cells": [
  {
   "cell_type": "code",
   "execution_count": 22,
   "id": "412536dc",
   "metadata": {},
   "outputs": [
    {
     "data": {
      "text/plain": [
       "' Reads dataframe and uses Resnet 50 to perform species classification on Dangermont data '"
      ]
     },
     "execution_count": 22,
     "metadata": {},
     "output_type": "execute_result"
    }
   ],
   "source": [
    "\"\"\" Reads dataframe and uses Resnet 50 to perform species classification on Dangermont data \"\"\""
   ]
  },
  {
   "cell_type": "code",
   "execution_count": 1,
   "id": "788dc0f6",
   "metadata": {},
   "outputs": [],
   "source": [
    "import pandas as pd\n",
    "import matplotlib.pyplot as plt\n",
    "import cv2\n",
    "import os"
   ]
  },
  {
   "cell_type": "code",
   "execution_count": 2,
   "id": "da0340fe",
   "metadata": {},
   "outputs": [],
   "source": [
    "df = pd.read_csv(\"df.csv\", index_col=False)\n",
    "df = df.drop(columns=[\"Unnamed: 0\"])"
   ]
  },
  {
   "cell_type": "code",
   "execution_count": 3,
   "id": "8f820c9b",
   "metadata": {
    "scrolled": true
   },
   "outputs": [],
   "source": [
    "def get_image(img_name):\n",
    "    path = f\"images-bboxes/jldp/{img_name}.jpg\"\n",
    "    return cv2.imread(path)"
   ]
  },
  {
   "cell_type": "code",
   "execution_count": 4,
   "id": "bfc44f68",
   "metadata": {},
   "outputs": [],
   "source": [
    "df[\"image\"] = df[\"image_name\"].apply(get_image)"
   ]
  },
  {
   "cell_type": "code",
   "execution_count": 5,
   "id": "4ce18b25",
   "metadata": {},
   "outputs": [
    {
     "data": {
      "text/html": [
       "<div>\n",
       "<style scoped>\n",
       "    .dataframe tbody tr th:only-of-type {\n",
       "        vertical-align: middle;\n",
       "    }\n",
       "\n",
       "    .dataframe tbody tr th {\n",
       "        vertical-align: top;\n",
       "    }\n",
       "\n",
       "    .dataframe thead th {\n",
       "        text-align: right;\n",
       "    }\n",
       "</style>\n",
       "<table border=\"1\" class=\"dataframe\">\n",
       "  <thead>\n",
       "    <tr style=\"text-align: right;\">\n",
       "      <th></th>\n",
       "      <th>image_name</th>\n",
       "      <th>species</th>\n",
       "      <th>common_name</th>\n",
       "      <th>image</th>\n",
       "    </tr>\n",
       "  </thead>\n",
       "  <tbody>\n",
       "    <tr>\n",
       "      <th>0</th>\n",
       "      <td>0005ef15-2aa9-4df3-b843-0329866e57c3</td>\n",
       "      <td>latrans</td>\n",
       "      <td>Coyote</td>\n",
       "      <td>[[[1, 1, 1], [1, 1, 1], [1, 1, 1], [1, 1, 1], ...</td>\n",
       "    </tr>\n",
       "    <tr>\n",
       "      <th>1</th>\n",
       "      <td>000a7ac3-decf-40ad-83c8-eff254efc678</td>\n",
       "      <td>latrans</td>\n",
       "      <td>Coyote</td>\n",
       "      <td>[[[20, 20, 20], [18, 18, 18], [18, 18, 18], [1...</td>\n",
       "    </tr>\n",
       "    <tr>\n",
       "      <th>2</th>\n",
       "      <td>00162be1-3ae1-4703-992e-c5865e6e870a</td>\n",
       "      <td>scrofa</td>\n",
       "      <td>Wild Boar</td>\n",
       "      <td>[[[119, 129, 139], [120, 130, 140], [120, 130,...</td>\n",
       "    </tr>\n",
       "    <tr>\n",
       "      <th>3</th>\n",
       "      <td>00168b48-41c5-4c66-bef6-908d9a50175e</td>\n",
       "      <td>scrofa</td>\n",
       "      <td>Wild Boar</td>\n",
       "      <td>[[[152, 117, 67], [152, 117, 67], [149, 114, 6...</td>\n",
       "    </tr>\n",
       "    <tr>\n",
       "      <th>4</th>\n",
       "      <td>0030e116-4944-4390-9d56-094779752388</td>\n",
       "      <td>latrans</td>\n",
       "      <td>Coyote</td>\n",
       "      <td>[[[13, 13, 13], [15, 15, 15], [17, 17, 17], [1...</td>\n",
       "    </tr>\n",
       "    <tr>\n",
       "      <th>...</th>\n",
       "      <td>...</td>\n",
       "      <td>...</td>\n",
       "      <td>...</td>\n",
       "      <td>...</td>\n",
       "    </tr>\n",
       "    <tr>\n",
       "      <th>9462</th>\n",
       "      <td>ffeea024-47ac-477f-b670-b9dc8029ff82</td>\n",
       "      <td>scrofa</td>\n",
       "      <td>Wild Boar</td>\n",
       "      <td>[[[105, 105, 105], [110, 110, 110], [104, 104,...</td>\n",
       "    </tr>\n",
       "    <tr>\n",
       "      <th>9463</th>\n",
       "      <td>ffeff04b-2970-4be5-a966-84a3f082bdf9</td>\n",
       "      <td>latrans</td>\n",
       "      <td>Coyote</td>\n",
       "      <td>[[[37, 37, 37], [33, 33, 33], [37, 37, 37], [3...</td>\n",
       "    </tr>\n",
       "    <tr>\n",
       "      <th>9464</th>\n",
       "      <td>fff2f4e7-429f-4571-a4e4-32642ac8776e</td>\n",
       "      <td>latrans</td>\n",
       "      <td>Coyote</td>\n",
       "      <td>[[[62, 62, 62], [58, 58, 58], [58, 58, 58], [6...</td>\n",
       "    </tr>\n",
       "    <tr>\n",
       "      <th>9465</th>\n",
       "      <td>fff38e44-fc40-4a7e-a9e8-64ee14108035</td>\n",
       "      <td>latrans</td>\n",
       "      <td>Coyote</td>\n",
       "      <td>[[[6, 6, 6], [6, 6, 6], [6, 6, 6], [7, 7, 7], ...</td>\n",
       "    </tr>\n",
       "    <tr>\n",
       "      <th>9466</th>\n",
       "      <td>fffd4420-abf8-49ed-b6d5-35a0b2e43c6e</td>\n",
       "      <td>hemionus</td>\n",
       "      <td>Mule Deer</td>\n",
       "      <td>[[[225, 235, 235], [224, 234, 234], [225, 233,...</td>\n",
       "    </tr>\n",
       "  </tbody>\n",
       "</table>\n",
       "<p>9467 rows × 4 columns</p>\n",
       "</div>"
      ],
      "text/plain": [
       "                                image_name   species common_name  \\\n",
       "0     0005ef15-2aa9-4df3-b843-0329866e57c3   latrans      Coyote   \n",
       "1     000a7ac3-decf-40ad-83c8-eff254efc678   latrans      Coyote   \n",
       "2     00162be1-3ae1-4703-992e-c5865e6e870a    scrofa   Wild Boar   \n",
       "3     00168b48-41c5-4c66-bef6-908d9a50175e    scrofa   Wild Boar   \n",
       "4     0030e116-4944-4390-9d56-094779752388   latrans      Coyote   \n",
       "...                                    ...       ...         ...   \n",
       "9462  ffeea024-47ac-477f-b670-b9dc8029ff82    scrofa   Wild Boar   \n",
       "9463  ffeff04b-2970-4be5-a966-84a3f082bdf9   latrans      Coyote   \n",
       "9464  fff2f4e7-429f-4571-a4e4-32642ac8776e   latrans      Coyote   \n",
       "9465  fff38e44-fc40-4a7e-a9e8-64ee14108035   latrans      Coyote   \n",
       "9466  fffd4420-abf8-49ed-b6d5-35a0b2e43c6e  hemionus   Mule Deer   \n",
       "\n",
       "                                                  image  \n",
       "0     [[[1, 1, 1], [1, 1, 1], [1, 1, 1], [1, 1, 1], ...  \n",
       "1     [[[20, 20, 20], [18, 18, 18], [18, 18, 18], [1...  \n",
       "2     [[[119, 129, 139], [120, 130, 140], [120, 130,...  \n",
       "3     [[[152, 117, 67], [152, 117, 67], [149, 114, 6...  \n",
       "4     [[[13, 13, 13], [15, 15, 15], [17, 17, 17], [1...  \n",
       "...                                                 ...  \n",
       "9462  [[[105, 105, 105], [110, 110, 110], [104, 104,...  \n",
       "9463  [[[37, 37, 37], [33, 33, 33], [37, 37, 37], [3...  \n",
       "9464  [[[62, 62, 62], [58, 58, 58], [58, 58, 58], [6...  \n",
       "9465  [[[6, 6, 6], [6, 6, 6], [6, 6, 6], [7, 7, 7], ...  \n",
       "9466  [[[225, 235, 235], [224, 234, 234], [225, 233,...  \n",
       "\n",
       "[9467 rows x 4 columns]"
      ]
     },
     "execution_count": 5,
     "metadata": {},
     "output_type": "execute_result"
    }
   ],
   "source": [
    "df"
   ]
  },
  {
   "cell_type": "code",
   "execution_count": 6,
   "id": "f900b446",
   "metadata": {},
   "outputs": [],
   "source": [
    "# 25 classes\n",
    "# marked class imbalance!\n",
    "df[[\"common_name\", \"image_name\"]].groupby(\"common_name\", as_index=False).count().\\\n",
    "    sort_values(by=\"image_name\", ascending=False)\n",
    "\n",
    "num_classes = len(df[\"common_name\"].unique())"
   ]
  },
  {
   "cell_type": "code",
   "execution_count": 7,
   "id": "16ee3985",
   "metadata": {},
   "outputs": [
    {
     "name": "stdout",
     "output_type": "stream",
     "text": [
      "There are 25 classes\n"
     ]
    }
   ],
   "source": [
    "print(f\"There are {num_classes} classes\")"
   ]
  },
  {
   "cell_type": "code",
   "execution_count": 8,
   "id": "41459ac5",
   "metadata": {},
   "outputs": [],
   "source": [
    "# organize data in necessary format\n",
    "for img, img_name, cname in zip(df[\"image\"].values, df[\"image_name\"].values, df[\"common_name\"].values):\n",
    "    path = \"tf-dataset/jldp\"\n",
    "    full_path = f\"{path}/{cname}/\"\n",
    "    \n",
    "    # one folder per label\n",
    "    if not os.path.isdir(full_path):\n",
    "        os.mkdir(full_path)\n",
    "        \n",
    "    full_name = f\"{full_path}/{img_name}.jpg\"\n",
    "    \n",
    "    # write file if it doesn't exist already\n",
    "    if not os.path.isfile(full_name):\n",
    "        cv2.imwrite(full_name, img)"
   ]
  },
  {
   "cell_type": "code",
   "execution_count": 9,
   "id": "9aea7180",
   "metadata": {},
   "outputs": [],
   "source": [
    "# resize all images\n",
    "new_shape = (224, 224)\n",
    "df[\"image\"] = df[\"image\"].apply(lambda x: cv2.resize(x, new_shape))"
   ]
  },
  {
   "cell_type": "markdown",
   "id": "402c72a7",
   "metadata": {},
   "source": [
    "### Resnet 50"
   ]
  },
  {
   "cell_type": "code",
   "execution_count": 10,
   "id": "47f62e8e",
   "metadata": {},
   "outputs": [],
   "source": [
    "from tensorflow.keras.applications import ResNet50\n",
    "from tensorflow.keras import Sequential\n",
    "from tensorflow.keras.layers import Flatten, Dense\n",
    "from tensorflow.keras.applications.resnet50 import preprocess_input\n",
    "from tensorflow.keras.preprocessing.image import ImageDataGenerator"
   ]
  },
  {
   "cell_type": "code",
   "execution_count": 11,
   "id": "0098b8aa",
   "metadata": {},
   "outputs": [],
   "source": [
    "# Load the pre-trained model\n",
    "base_model = ResNet50(weights=\"imagenet\", include_top=True, input_shape=(224, 224, 3))\n",
    "batch_size = 32"
   ]
  },
  {
   "cell_type": "code",
   "execution_count": 12,
   "id": "96f08eb6",
   "metadata": {},
   "outputs": [
    {
     "data": {
      "text/plain": [
       "177"
      ]
     },
     "execution_count": 12,
     "metadata": {},
     "output_type": "execute_result"
    }
   ],
   "source": [
    "len(base_model.layers)"
   ]
  },
  {
   "cell_type": "code",
   "execution_count": 13,
   "id": "932ad995",
   "metadata": {},
   "outputs": [],
   "source": [
    "# freeze half the layers\n",
    "for layer in base_model.layers[:-30]:\n",
    "    layer.trainable = False\n",
    "\n",
    "# all data\n",
    "# :-70, 2 epochs, accuracy 0.65, val accuracy 0.41\n",
    "# :-30, 3 epochs, accuracy 0.74, val accuracy 0.77\n",
    "# :-20, 5 epochs, accuracy 0.60, val accuracy 0.60\n",
    "\n",
    "# removing labels with <= 5 observations\n",
    "# :-30, 3 epochs, accuracy 0.86, val accuracy 0.85"
   ]
  },
  {
   "cell_type": "code",
   "execution_count": 14,
   "id": "0e72d0fe",
   "metadata": {},
   "outputs": [],
   "source": [
    "model = Sequential([\n",
    "    base_model, \n",
    "    Flatten(),\n",
    "    Dense(num_classes, activation=\"softmax\")\n",
    "])"
   ]
  },
  {
   "cell_type": "code",
   "execution_count": 15,
   "id": "57d0895c",
   "metadata": {},
   "outputs": [],
   "source": [
    "model.compile(optimizer=\"adam\", loss=\"categorical_crossentropy\", metrics=[\"accuracy\"])"
   ]
  },
  {
   "cell_type": "code",
   "execution_count": 16,
   "id": "240e2546",
   "metadata": {},
   "outputs": [
    {
     "name": "stdout",
     "output_type": "stream",
     "text": [
      "Found 7586 images belonging to 25 classes.\n",
      "Found 1881 images belonging to 25 classes.\n"
     ]
    }
   ],
   "source": [
    "datagen = ImageDataGenerator(\n",
    "    preprocessing_function = preprocess_input,\n",
    "    validation_split = 0.2\n",
    ")\n",
    "\n",
    "path = \"tf-dataset/jldp/\"\n",
    "train_generator = datagen.flow_from_directory(\n",
    "    path,\n",
    "    target_size = (224, 224),\n",
    "    batch_size = batch_size,\n",
    "    class_mode = \"categorical\",\n",
    "    subset = \"training\"\n",
    ")\n",
    "\n",
    "validation_generator = datagen.flow_from_directory(\n",
    "    path,\n",
    "    target_size = (224, 224),\n",
    "    batch_size = batch_size,\n",
    "    class_mode = \"categorical\",\n",
    "    subset = \"validation\"\n",
    ")"
   ]
  },
  {
   "cell_type": "code",
   "execution_count": 17,
   "id": "515ed984",
   "metadata": {},
   "outputs": [
    {
     "name": "stdout",
     "output_type": "stream",
     "text": [
      "Epoch 1/3\n",
      "238/238 [==============================] - 1087s 5s/step - loss: 2.7971 - accuracy: 0.7455 - val_loss: 2.4982 - val_accuracy: 0.6385\n",
      "Epoch 2/3\n",
      "238/238 [==============================] - 1158s 5s/step - loss: 2.1587 - accuracy: 0.8402 - val_loss: 1.8773 - val_accuracy: 0.8522\n",
      "Epoch 3/3\n",
      "238/238 [==============================] - 1086s 5s/step - loss: 1.6599 - accuracy: 0.8578 - val_loss: 1.4601 - val_accuracy: 0.8490\n"
     ]
    },
    {
     "data": {
      "text/plain": [
       "<keras.callbacks.History at 0x1e3a14dad50>"
      ]
     },
     "execution_count": 17,
     "metadata": {},
     "output_type": "execute_result"
    }
   ],
   "source": [
    "model.fit(\n",
    "    train_generator,\n",
    "    validation_data = validation_generator,\n",
    "    epochs = 3,\n",
    "    verbose = True\n",
    ")"
   ]
  },
  {
   "cell_type": "code",
   "execution_count": 21,
   "id": "d4710dee",
   "metadata": {},
   "outputs": [],
   "source": [
    "# save model\n",
    "structure_path = \"tf-dataset/models/model01.json\"\n",
    "weights_path = \"tf-dataset/models/model01.h5\"\n",
    "\n",
    "# save structure\n",
    "with open(structure_path, \"w\") as json_file:\n",
    "    json_file.write(model.to_json())\n",
    "    \n",
    "# save weights\n",
    "model.save_weights(weights_path)"
   ]
  }
 ],
 "metadata": {
  "kernelspec": {
   "display_name": "Python 3 (ipykernel)",
   "language": "python",
   "name": "python3"
  },
  "language_info": {
   "codemirror_mode": {
    "name": "ipython",
    "version": 3
   },
   "file_extension": ".py",
   "mimetype": "text/x-python",
   "name": "python",
   "nbconvert_exporter": "python",
   "pygments_lexer": "ipython3",
   "version": "3.11.2"
  }
 },
 "nbformat": 4,
 "nbformat_minor": 5
}
